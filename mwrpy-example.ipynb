{
 "cells": [
  {
   "cell_type": "markdown",
   "id": "e2b6b2d9-7749-4de6-a4d7-c7d814fa37cc",
   "metadata": {},
   "source": [
    "# MWRpy processing example"
   ]
  },
  {
   "cell_type": "markdown",
   "id": "502d5934-14fd-4556-b6f7-3ae2df4e78f6",
   "metadata": {},
   "source": [
    "#### This minimal working example is based on the Cloudnet API client to fetch raw data, retrieval files and site meta data.\n",
    "#### See the MWRpy GitHub page for more information: https://github.com/actris-cloudnet/mwrpy"
   ]
  },
  {
   "cell_type": "code",
   "execution_count": 3,
   "id": "4024a434-b49c-47a5-9696-2797429d8e0d",
   "metadata": {},
   "outputs": [],
   "source": [
    "from cloudnet_api_client import APIClient\n",
    "import matplotlib.pyplot as plt\n",
    "import requests"
   ]
  },
  {
   "cell_type": "markdown",
   "id": "7472bba3-c995-4403-87a1-5e66f4c337fc",
   "metadata": {},
   "source": [
    "# Download raw data (binary files)"
   ]
  },
  {
   "cell_type": "code",
   "execution_count": 4,
   "id": "509f662c-d2da-4d26-b088-00c28a612b6c",
   "metadata": {},
   "outputs": [],
   "source": [
    "data_path = \"data/\"\n",
    "site = \"munich\"\n",
    "instrument_pid = \"https://hdl.handle.net/21.12132/3.4025c06be1ab4983\" # check https://cloudnet.fmi.fi/instruments to find the PID of your instrument\n",
    "date = \"2025-08-27\""
   ]
  },
  {
   "cell_type": "code",
   "execution_count": null,
   "id": "68980e11-815b-4689-97f5-b06ca0c3c033",
   "metadata": {},
   "outputs": [],
   "source": [
    "client = APIClient()\n",
    "instruments = client.instruments()\n",
    "instrument_type = [i.instrument_id for i in instruments if i.pid == instrument_pid][0]\n",
    "files = client.raw_files(site_id=site, instrument_id=instrument_type, date=date)\n",
    "binary_files = [f for f in files]\n",
    "print(len(binary_files))"
   ]
  },
  {
   "cell_type": "code",
   "execution_count": null,
   "id": "d22ad1ec-a9f6-441d-af86-32a3529368bb",
   "metadata": {},
   "outputs": [],
   "source": [
    "binary_filepaths = await client.adownload(binary_files, data_path)"
   ]
  },
  {
   "cell_type": "markdown",
   "id": "353dc9be-5abd-4ba4-9b13-c88c35703baa",
   "metadata": {},
   "source": [
    "# Download retrieval files"
   ]
  },
  {
   "cell_type": "code",
   "execution_count": null,
   "id": "19aeeed1-bb2b-4c0c-b1ba-7d81ba91d19f",
   "metadata": {},
   "outputs": [],
   "source": [
    "calibration = client.calibration(instrument_pid, date)\n",
    "retrieval = calibration[\"data\"]\n",
    "\n",
    "retrieval_files = []\n",
    "for file in retrieval[\"coefficientLinks\"]:\n",
    "    filename = data_path + file.split(\"/\")[-1]\n",
    "    response = requests.get(file)\n",
    "    with open(filename, \"wb\") as f:\n",
    "        f.write(response.content)\n",
    "        retrieval_files.append(str(filename))\n",
    "print(retrieval_files)"
   ]
  },
  {
   "cell_type": "markdown",
   "id": "97d43e26-711d-42ee-8f7c-f945e6e00fe1",
   "metadata": {},
   "source": [
    "# Process and plot Level 1 data"
   ]
  },
  {
   "cell_type": "code",
   "execution_count": null,
   "id": "f1f4f4f9-952f-4261-abb0-30b6eef387ef",
   "metadata": {},
   "outputs": [],
   "source": [
    "from mwrpy.level1.write_lev1_nc import lev1_to_nc\n",
    "site_info = client.site(site_id=site)\n",
    "site_meta = {\n",
    "    \"name\": site_info.id,\n",
    "    \"altitude\": site_info.altitude,\n",
    "    \"latitude\": site_info.latitude,\n",
    "    \"longitude\": site_info.longitude,\n",
    "}\n",
    "mwr_raw = lev1_to_nc(\n",
    "    \"1C01\",\n",
    "    data_path,\n",
    "    instrument_type=instrument_type,\n",
    "    output_file=\"mwr_1c.nc\",\n",
    "    coeff_files=retrieval_files,\n",
    "    instrument_config=site_meta,\n",
    ")"
   ]
  },
  {
   "cell_type": "code",
   "execution_count": null,
   "id": "6e4c04f3-1a13-49d6-a3b6-bdc73f16dd54",
   "metadata": {},
   "outputs": [],
   "source": [
    "from mwrpy.plots.generate_plots import generate_figure\n",
    "fig_name = generate_figure('mwr_1c.nc', ['tb'], show=True, instrument_type=instrument_type)"
   ]
  },
  {
   "cell_type": "markdown",
   "id": "7f3f3184-a0ce-4291-8af7-f264e645f6c6",
   "metadata": {},
   "source": [
    "# Process and plot Level 2 data (single pointing)"
   ]
  },
  {
   "cell_type": "code",
   "execution_count": null,
   "id": "5f626b06-ce21-4d24-81ad-339d34902c11",
   "metadata": {},
   "outputs": [],
   "source": [
    "from mwrpy.level2.lev2_collocated import generate_lev2_single\n",
    "mwr_prod = generate_lev2_single(None, \"mwr_1c.nc\", \"mwr-single.nc\", coeff_files=retrieval_files)"
   ]
  },
  {
   "cell_type": "code",
   "execution_count": null,
   "id": "b789e1e6-0a3e-463f-ab18-96d1a1b07504",
   "metadata": {},
   "outputs": [],
   "source": [
    "from mwrpy.plots.generate_plots import generate_figure\n",
    "fig_name = generate_figure('mwr-single.nc', ['iwv'], show=True, instrument_type=instrument_type)"
   ]
  },
  {
   "cell_type": "markdown",
   "id": "bdb344d2-5d80-47db-a67f-fac0ec5203c2",
   "metadata": {},
   "source": [
    "# Process and plot Level 2 data (multiple pointing)"
   ]
  },
  {
   "cell_type": "code",
   "execution_count": null,
   "id": "07c7835e-42fa-4bf0-8421-a460fb5bc83d",
   "metadata": {},
   "outputs": [],
   "source": [
    "from mwrpy.level2.lev2_collocated import generate_lev2_multi\n",
    "mwr_prod = generate_lev2_multi(site, \"mwr_1c.nc\", \"mwr-multi.nc\", coeff_files=retrieval_files)"
   ]
  },
  {
   "cell_type": "code",
   "execution_count": null,
   "id": "f304bf1b-0136-486a-b4be-dd435a820c56",
   "metadata": {},
   "outputs": [],
   "source": [
    "from mwrpy.plots.generate_plots import generate_figure\n",
    "fig_name = generate_figure('mwr-multi.nc', ['temperature'], show=True, instrument_type=instrument_type)"
   ]
  }
 ],
 "metadata": {
  "kernelspec": {
   "display_name": "ccres cloudnet",
   "language": "python",
   "name": "ccres_cloudnet"
  },
  "language_info": {
   "codemirror_mode": {
    "name": "ipython",
    "version": 3
   },
   "file_extension": ".py",
   "mimetype": "text/x-python",
   "name": "python",
   "nbconvert_exporter": "python",
   "pygments_lexer": "ipython3",
   "version": "3.13.5"
  }
 },
 "nbformat": 4,
 "nbformat_minor": 5
}
